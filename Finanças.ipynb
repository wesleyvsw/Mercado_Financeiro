{
  "nbformat": 4,
  "nbformat_minor": 0,
  "metadata": {
    "colab": {
      "name": "Finanças.ipynb",
      "provenance": [],
      "authorship_tag": "ABX9TyN9Hdqh9yasbuNrYdJd9CQo"
    },
    "kernelspec": {
      "name": "python3",
      "display_name": "Python 3"
    }
  },
  "cells": [
    {
      "cell_type": "markdown",
      "metadata": {
        "id": "efhCsiedE7YL",
        "colab_type": "text"
      },
      "source": [
        "# **Mercado Financeiro**\n",
        "Notebook utilizado para análise de dados do mercado financeiro utilizando as seguintes ações da Bolsa B3 de São Paulo: B3SA3,ITUB4,IRBR3,ABEV3.\n",
        "Começando pelo cálculo do retorno diário, passando por risco/retorno de um ativo e cálculo de betas."
      ]
    },
    {
      "cell_type": "markdown",
      "metadata": {
        "id": "7hIUJid2GLaj",
        "colab_type": "text"
      },
      "source": [
        "##Importando as bibliotecas e fazendo o upload dos arquivos"
      ]
    },
    {
      "cell_type": "code",
      "metadata": {
        "id": "WDmDS-rWXRsN",
        "colab_type": "code",
        "colab": {}
      },
      "source": [
        "import numpy as np\n",
        "import pandas as pd"
      ],
      "execution_count": 1,
      "outputs": []
    },
    {
      "cell_type": "code",
      "metadata": {
        "id": "pahfQf4wXvYj",
        "colab_type": "code",
        "colab": {
          "resources": {
            "http://localhost:8080/nbextensions/google.colab/files.js": {
              "data": "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",
              "ok": true,
              "headers": [
                [
                  "content-type",
                  "application/javascript"
                ]
              ],
              "status": 200,
              "status_text": ""
            }
          },
          "base_uri": "https://localhost:8080/",
          "height": 515
        },
        "outputId": "3944d059-16a0-46a1-867e-de0c5a48e4ad"
      },
      "source": [
        "from google.colab import files\n",
        "up1= files.upload()\n"
      ],
      "execution_count": 2,
      "outputs": [
        {
          "output_type": "display_data",
          "data": {
            "text/html": [
              "\n",
              "     <input type=\"file\" id=\"files-d9c65532-5b44-484a-87f1-3aa614c1cea5\" name=\"files[]\" multiple disabled\n",
              "        style=\"border:none\" />\n",
              "     <output id=\"result-d9c65532-5b44-484a-87f1-3aa614c1cea5\">\n",
              "      Upload widget is only available when the cell has been executed in the\n",
              "      current browser session. Please rerun this cell to enable.\n",
              "      </output>\n",
              "      <script src=\"/nbextensions/google.colab/files.js\"></script> "
            ],
            "text/plain": [
              "<IPython.core.display.HTML object>"
            ]
          },
          "metadata": {
            "tags": []
          }
        },
        {
          "output_type": "stream",
          "text": [
            "Saving ABEV3.SA.csv to ABEV3.SA.csv\n",
            "Saving AZUL4.SA.csv to AZUL4.SA.csv\n",
            "Saving B3SA3.SA.csv to B3SA3.SA.csv\n",
            "Saving BBDC4.SA.csv to BBDC4.SA.csv\n",
            "Saving FLRY3.SA.csv to FLRY3.SA.csv\n",
            "Saving IRBR3.SA.csv to IRBR3.SA.csv\n",
            "Saving ITUB4.SA.csv to ITUB4.SA.csv\n",
            "Saving LREN3.SA.csv to LREN3.SA.csv\n",
            "Saving NEOE3.SA.csv to NEOE3.SA.csv\n",
            "Saving NTCO3.SA.csv to NTCO3.SA.csv\n",
            "Saving PETR4.SA.csv to PETR4.SA.csv\n",
            "Saving RADL3.SA.csv to RADL3.SA.csv\n",
            "Saving SUZB3.SA.csv to SUZB3.SA.csv\n",
            "Saving TOTS3.SA.csv to TOTS3.SA.csv\n"
          ],
          "name": "stdout"
        }
      ]
    },
    {
      "cell_type": "code",
      "metadata": {
        "id": "lA3Bfbc5Ynjz",
        "colab_type": "code",
        "colab": {}
      },
      "source": [
        "ABEV = pd.read_csv(\"ABEV3.SA.csv\")\n",
        "B3 = pd.read_csv(\"B3SA3.SA.csv\")\n",
        "IRB = pd.read_csv(\"IRBR3.SA.csv\")\n",
        "ITUB = pd.read_csv(\"ITUB4.SA.csv\")\n",
        "AZUL = pd.read_csv(\"AZUL4.SA.csv\")\n",
        "BRAD = pd.read_csv(\"BBDC4.SA.csv\")\n",
        "NEOE = pd.read_csv(\"NEOE3.SA.csv\")\n",
        "PETR = pd.read_csv(\"PETR4.SA.csv\")\n",
        "RAIA = pd.read_csv(\"RADL3.SA.csv\")\n",
        "RENNER = pd.read_csv(\"LREN3.SA.csv\")\n",
        "FLEURY = pd.read_csv(\"FLRY3.SA.csv\")\n",
        "NATURA = pd.read_csv(\"NTCO3.SA.csv\")\n",
        "SUZANO = pd.read_csv(\"SUZB3.SA.csv\")\n",
        "TOTVS =pd.read_csv(\"TOTS3.SA.csv\")"
      ],
      "execution_count": 3,
      "outputs": []
    },
    {
      "cell_type": "markdown",
      "metadata": {
        "id": "qFidB2Y-GXOL",
        "colab_type": "text"
      },
      "source": [
        "## Cálculo dos Retornos diários"
      ]
    },
    {
      "cell_type": "code",
      "metadata": {
        "id": "ydEF11_4Zlaw",
        "colab_type": "code",
        "colab": {}
      },
      "source": [
        "#ABEV['Retorno'][0] = 1.0\n",
        "\n",
        "for x in range(len(ABEV['Close'])-1):\n",
        "  #ABEV.at[x+1,'Retorno'] =10\n",
        "  ABEV.at[x+1,'Retorno'] = (ABEV['Close'][x+1]-ABEV['Close'][x])/ABEV['Close'][x]\n",
        "  ABEV.head()"
      ],
      "execution_count": 6,
      "outputs": []
    },
    {
      "cell_type": "code",
      "metadata": {
        "id": "_2sga9Jw59_M",
        "colab_type": "code",
        "colab": {
          "base_uri": "https://localhost:8080/",
          "height": 204
        },
        "outputId": "1a4f878e-f378-47fa-d902-024b4b85517f"
      },
      "source": [
        "ABEV.head()"
      ],
      "execution_count": 7,
      "outputs": [
        {
          "output_type": "execute_result",
          "data": {
            "text/html": [
              "<div>\n",
              "<style scoped>\n",
              "    .dataframe tbody tr th:only-of-type {\n",
              "        vertical-align: middle;\n",
              "    }\n",
              "\n",
              "    .dataframe tbody tr th {\n",
              "        vertical-align: top;\n",
              "    }\n",
              "\n",
              "    .dataframe thead th {\n",
              "        text-align: right;\n",
              "    }\n",
              "</style>\n",
              "<table border=\"1\" class=\"dataframe\">\n",
              "  <thead>\n",
              "    <tr style=\"text-align: right;\">\n",
              "      <th></th>\n",
              "      <th>Date</th>\n",
              "      <th>Open</th>\n",
              "      <th>High</th>\n",
              "      <th>Low</th>\n",
              "      <th>Close</th>\n",
              "      <th>Adj Close</th>\n",
              "      <th>Volume</th>\n",
              "      <th>Retorno</th>\n",
              "    </tr>\n",
              "  </thead>\n",
              "  <tbody>\n",
              "    <tr>\n",
              "      <th>0</th>\n",
              "      <td>2019-07-19</td>\n",
              "      <td>18.230000</td>\n",
              "      <td>18.520000</td>\n",
              "      <td>18.049999</td>\n",
              "      <td>18.090000</td>\n",
              "      <td>17.627039</td>\n",
              "      <td>15923300.0</td>\n",
              "      <td>NaN</td>\n",
              "    </tr>\n",
              "    <tr>\n",
              "      <th>1</th>\n",
              "      <td>2019-07-22</td>\n",
              "      <td>18.070000</td>\n",
              "      <td>18.250000</td>\n",
              "      <td>17.850000</td>\n",
              "      <td>17.990000</td>\n",
              "      <td>17.529598</td>\n",
              "      <td>12533800.0</td>\n",
              "      <td>-0.005528</td>\n",
              "    </tr>\n",
              "    <tr>\n",
              "      <th>2</th>\n",
              "      <td>2019-07-23</td>\n",
              "      <td>18.000000</td>\n",
              "      <td>18.270000</td>\n",
              "      <td>17.959999</td>\n",
              "      <td>18.030001</td>\n",
              "      <td>17.568575</td>\n",
              "      <td>15130100.0</td>\n",
              "      <td>0.002224</td>\n",
              "    </tr>\n",
              "    <tr>\n",
              "      <th>3</th>\n",
              "      <td>2019-07-24</td>\n",
              "      <td>18.190001</td>\n",
              "      <td>18.219999</td>\n",
              "      <td>17.940001</td>\n",
              "      <td>17.959999</td>\n",
              "      <td>17.500364</td>\n",
              "      <td>11971400.0</td>\n",
              "      <td>-0.003883</td>\n",
              "    </tr>\n",
              "    <tr>\n",
              "      <th>4</th>\n",
              "      <td>2019-07-25</td>\n",
              "      <td>19.000000</td>\n",
              "      <td>19.719999</td>\n",
              "      <td>18.760000</td>\n",
              "      <td>19.490000</td>\n",
              "      <td>18.991209</td>\n",
              "      <td>75250600.0</td>\n",
              "      <td>0.085189</td>\n",
              "    </tr>\n",
              "  </tbody>\n",
              "</table>\n",
              "</div>"
            ],
            "text/plain": [
              "         Date       Open       High  ...  Adj Close      Volume   Retorno\n",
              "0  2019-07-19  18.230000  18.520000  ...  17.627039  15923300.0       NaN\n",
              "1  2019-07-22  18.070000  18.250000  ...  17.529598  12533800.0 -0.005528\n",
              "2  2019-07-23  18.000000  18.270000  ...  17.568575  15130100.0  0.002224\n",
              "3  2019-07-24  18.190001  18.219999  ...  17.500364  11971400.0 -0.003883\n",
              "4  2019-07-25  19.000000  19.719999  ...  18.991209  75250600.0  0.085189\n",
              "\n",
              "[5 rows x 8 columns]"
            ]
          },
          "metadata": {
            "tags": []
          },
          "execution_count": 7
        }
      ]
    },
    {
      "cell_type": "code",
      "metadata": {
        "id": "ECrKI-0lvavw",
        "colab_type": "code",
        "colab": {}
      },
      "source": [
        "for x in range(len(AZUL['Close'])-1):\n",
        "  AZUL.at[x+1,'Retorno'] = (AZUL['Close'][x+1]-AZUL['Close'][x])/AZUL['Close'][x]\n"
      ],
      "execution_count": 8,
      "outputs": []
    },
    {
      "cell_type": "code",
      "metadata": {
        "id": "sxIZVn6gvrQq",
        "colab_type": "code",
        "colab": {}
      },
      "source": [
        "for x in range(len(BRAD['Close'])-1):\n",
        "  BRAD.at[x+1,'Retorno'] = (BRAD['Close'][x+1]-BRAD['Close'][x])/BRAD['Close'][x]\n"
      ],
      "execution_count": 9,
      "outputs": []
    },
    {
      "cell_type": "code",
      "metadata": {
        "id": "OspuvGKqv1KT",
        "colab_type": "code",
        "colab": {}
      },
      "source": [
        "for x in range(len(NEOE['Close'])-1):\n",
        "  NEOE.at[x+1,'Retorno'] = (NEOE['Close'][x+1]-NEOE['Close'][x])/NEOE['Close'][x]\n"
      ],
      "execution_count": 10,
      "outputs": []
    },
    {
      "cell_type": "code",
      "metadata": {
        "id": "f83LJ3KRwFZF",
        "colab_type": "code",
        "colab": {}
      },
      "source": [
        "for x in range(len(PETR['Close'])-1):\n",
        "  PETR.at[x+1,'Retorno'] = (PETR['Close'][x+1]-PETR['Close'][x])/PETR['Close'][x]\n"
      ],
      "execution_count": 11,
      "outputs": []
    },
    {
      "cell_type": "code",
      "metadata": {
        "id": "OVCA--7WwN86",
        "colab_type": "code",
        "colab": {}
      },
      "source": [
        "for x in range(len(RAIA['Close'])-1):\n",
        "  RAIA.at[x+1,'Retorno'] = (RAIA['Close'][x+1]-RAIA['Close'][x])/RAIA['Close'][x]\n"
      ],
      "execution_count": 12,
      "outputs": []
    },
    {
      "cell_type": "code",
      "metadata": {
        "id": "0ABXb8ekAvt2",
        "colab_type": "code",
        "colab": {
          "base_uri": "https://localhost:8080/",
          "height": 289
        },
        "outputId": "dcdf38bf-2aa1-4a2b-9c5a-a0429c5dc845"
      },
      "source": [
        "for x in range(len(ITUB['Close'])-1):\n",
        "  ITUB.at[x+1,'Retorno'] = (ITUB['Close'][x+1]-ITUB['Close'][x])/ITUB['Close'][x]\n",
        "ITUB['Retorno'][0] =1.0\n",
        "ITUB.head()"
      ],
      "execution_count": 13,
      "outputs": [
        {
          "output_type": "stream",
          "text": [
            "/usr/local/lib/python3.6/dist-packages/ipykernel_launcher.py:3: SettingWithCopyWarning: \n",
            "A value is trying to be set on a copy of a slice from a DataFrame\n",
            "\n",
            "See the caveats in the documentation: https://pandas.pydata.org/pandas-docs/stable/user_guide/indexing.html#returning-a-view-versus-a-copy\n",
            "  This is separate from the ipykernel package so we can avoid doing imports until\n"
          ],
          "name": "stderr"
        },
        {
          "output_type": "execute_result",
          "data": {
            "text/html": [
              "<div>\n",
              "<style scoped>\n",
              "    .dataframe tbody tr th:only-of-type {\n",
              "        vertical-align: middle;\n",
              "    }\n",
              "\n",
              "    .dataframe tbody tr th {\n",
              "        vertical-align: top;\n",
              "    }\n",
              "\n",
              "    .dataframe thead th {\n",
              "        text-align: right;\n",
              "    }\n",
              "</style>\n",
              "<table border=\"1\" class=\"dataframe\">\n",
              "  <thead>\n",
              "    <tr style=\"text-align: right;\">\n",
              "      <th></th>\n",
              "      <th>Date</th>\n",
              "      <th>Open</th>\n",
              "      <th>High</th>\n",
              "      <th>Low</th>\n",
              "      <th>Close</th>\n",
              "      <th>Adj Close</th>\n",
              "      <th>Volume</th>\n",
              "      <th>Retorno</th>\n",
              "    </tr>\n",
              "  </thead>\n",
              "  <tbody>\n",
              "    <tr>\n",
              "      <th>0</th>\n",
              "      <td>2019-07-19</td>\n",
              "      <td>37.080002</td>\n",
              "      <td>37.279999</td>\n",
              "      <td>36.400002</td>\n",
              "      <td>36.400002</td>\n",
              "      <td>35.072002</td>\n",
              "      <td>17145500.0</td>\n",
              "      <td>1.000000</td>\n",
              "    </tr>\n",
              "    <tr>\n",
              "      <th>1</th>\n",
              "      <td>2019-07-22</td>\n",
              "      <td>36.689999</td>\n",
              "      <td>37.250000</td>\n",
              "      <td>36.619999</td>\n",
              "      <td>37.020000</td>\n",
              "      <td>35.669384</td>\n",
              "      <td>18663100.0</td>\n",
              "      <td>0.017033</td>\n",
              "    </tr>\n",
              "    <tr>\n",
              "      <th>2</th>\n",
              "      <td>2019-07-23</td>\n",
              "      <td>37.250000</td>\n",
              "      <td>37.549999</td>\n",
              "      <td>36.730000</td>\n",
              "      <td>37.380001</td>\n",
              "      <td>36.016247</td>\n",
              "      <td>21128500.0</td>\n",
              "      <td>0.009725</td>\n",
              "    </tr>\n",
              "    <tr>\n",
              "      <th>3</th>\n",
              "      <td>2019-07-24</td>\n",
              "      <td>37.500000</td>\n",
              "      <td>37.750000</td>\n",
              "      <td>37.130001</td>\n",
              "      <td>37.349998</td>\n",
              "      <td>35.987347</td>\n",
              "      <td>14689500.0</td>\n",
              "      <td>-0.000803</td>\n",
              "    </tr>\n",
              "    <tr>\n",
              "      <th>4</th>\n",
              "      <td>2019-07-25</td>\n",
              "      <td>37.650002</td>\n",
              "      <td>37.650002</td>\n",
              "      <td>35.980000</td>\n",
              "      <td>36.200001</td>\n",
              "      <td>34.879299</td>\n",
              "      <td>22380700.0</td>\n",
              "      <td>-0.030790</td>\n",
              "    </tr>\n",
              "  </tbody>\n",
              "</table>\n",
              "</div>"
            ],
            "text/plain": [
              "         Date       Open       High  ...  Adj Close      Volume   Retorno\n",
              "0  2019-07-19  37.080002  37.279999  ...  35.072002  17145500.0  1.000000\n",
              "1  2019-07-22  36.689999  37.250000  ...  35.669384  18663100.0  0.017033\n",
              "2  2019-07-23  37.250000  37.549999  ...  36.016247  21128500.0  0.009725\n",
              "3  2019-07-24  37.500000  37.750000  ...  35.987347  14689500.0 -0.000803\n",
              "4  2019-07-25  37.650002  37.650002  ...  34.879299  22380700.0 -0.030790\n",
              "\n",
              "[5 rows x 8 columns]"
            ]
          },
          "metadata": {
            "tags": []
          },
          "execution_count": 13
        }
      ]
    },
    {
      "cell_type": "code",
      "metadata": {
        "id": "tGURSJPKbX63",
        "colab_type": "code",
        "colab": {}
      },
      "source": [
        "for x in range(len(B3['Close'])-1):\n",
        "  B3.at[x+1,'Retorno'] = (B3['Close'][x+1]-B3['Close'][x])/B3['Close'][x+1]\n"
      ],
      "execution_count": 14,
      "outputs": []
    },
    {
      "cell_type": "code",
      "metadata": {
        "id": "CQ-_Bctx8qon",
        "colab_type": "code",
        "colab": {
          "base_uri": "https://localhost:8080/",
          "height": 289
        },
        "outputId": "5746c3b7-0010-4bdf-8a7a-1dbc7b479272"
      },
      "source": [
        "B3['Retorno'][0] =1\n",
        "B3.head()"
      ],
      "execution_count": 15,
      "outputs": [
        {
          "output_type": "stream",
          "text": [
            "/usr/local/lib/python3.6/dist-packages/ipykernel_launcher.py:1: SettingWithCopyWarning: \n",
            "A value is trying to be set on a copy of a slice from a DataFrame\n",
            "\n",
            "See the caveats in the documentation: https://pandas.pydata.org/pandas-docs/stable/user_guide/indexing.html#returning-a-view-versus-a-copy\n",
            "  \"\"\"Entry point for launching an IPython kernel.\n"
          ],
          "name": "stderr"
        },
        {
          "output_type": "execute_result",
          "data": {
            "text/html": [
              "<div>\n",
              "<style scoped>\n",
              "    .dataframe tbody tr th:only-of-type {\n",
              "        vertical-align: middle;\n",
              "    }\n",
              "\n",
              "    .dataframe tbody tr th {\n",
              "        vertical-align: top;\n",
              "    }\n",
              "\n",
              "    .dataframe thead th {\n",
              "        text-align: right;\n",
              "    }\n",
              "</style>\n",
              "<table border=\"1\" class=\"dataframe\">\n",
              "  <thead>\n",
              "    <tr style=\"text-align: right;\">\n",
              "      <th></th>\n",
              "      <th>Date</th>\n",
              "      <th>Open</th>\n",
              "      <th>High</th>\n",
              "      <th>Low</th>\n",
              "      <th>Close</th>\n",
              "      <th>Adj Close</th>\n",
              "      <th>Volume</th>\n",
              "      <th>Retorno</th>\n",
              "    </tr>\n",
              "  </thead>\n",
              "  <tbody>\n",
              "    <tr>\n",
              "      <th>0</th>\n",
              "      <td>2019-07-19</td>\n",
              "      <td>40.900002</td>\n",
              "      <td>41.189999</td>\n",
              "      <td>40.189999</td>\n",
              "      <td>40.380001</td>\n",
              "      <td>39.329262</td>\n",
              "      <td>5898100.0</td>\n",
              "      <td>1.000000</td>\n",
              "    </tr>\n",
              "    <tr>\n",
              "      <th>1</th>\n",
              "      <td>2019-07-22</td>\n",
              "      <td>40.880001</td>\n",
              "      <td>41.410000</td>\n",
              "      <td>40.759998</td>\n",
              "      <td>41.349998</td>\n",
              "      <td>40.274017</td>\n",
              "      <td>3567600.0</td>\n",
              "      <td>0.023458</td>\n",
              "    </tr>\n",
              "    <tr>\n",
              "      <th>2</th>\n",
              "      <td>2019-07-23</td>\n",
              "      <td>41.349998</td>\n",
              "      <td>41.680000</td>\n",
              "      <td>40.650002</td>\n",
              "      <td>40.750000</td>\n",
              "      <td>39.689632</td>\n",
              "      <td>6721600.0</td>\n",
              "      <td>-0.014724</td>\n",
              "    </tr>\n",
              "    <tr>\n",
              "      <th>3</th>\n",
              "      <td>2019-07-24</td>\n",
              "      <td>40.889999</td>\n",
              "      <td>42.529999</td>\n",
              "      <td>40.880001</td>\n",
              "      <td>42.529999</td>\n",
              "      <td>41.423317</td>\n",
              "      <td>7733800.0</td>\n",
              "      <td>0.041853</td>\n",
              "    </tr>\n",
              "    <tr>\n",
              "      <th>4</th>\n",
              "      <td>2019-07-25</td>\n",
              "      <td>42.450001</td>\n",
              "      <td>42.700001</td>\n",
              "      <td>41.360001</td>\n",
              "      <td>41.900002</td>\n",
              "      <td>40.809711</td>\n",
              "      <td>7257400.0</td>\n",
              "      <td>-0.015036</td>\n",
              "    </tr>\n",
              "  </tbody>\n",
              "</table>\n",
              "</div>"
            ],
            "text/plain": [
              "         Date       Open       High  ...  Adj Close     Volume   Retorno\n",
              "0  2019-07-19  40.900002  41.189999  ...  39.329262  5898100.0  1.000000\n",
              "1  2019-07-22  40.880001  41.410000  ...  40.274017  3567600.0  0.023458\n",
              "2  2019-07-23  41.349998  41.680000  ...  39.689632  6721600.0 -0.014724\n",
              "3  2019-07-24  40.889999  42.529999  ...  41.423317  7733800.0  0.041853\n",
              "4  2019-07-25  42.450001  42.700001  ...  40.809711  7257400.0 -0.015036\n",
              "\n",
              "[5 rows x 8 columns]"
            ]
          },
          "metadata": {
            "tags": []
          },
          "execution_count": 15
        }
      ]
    },
    {
      "cell_type": "code",
      "metadata": {
        "id": "DVdjOGQy8qrY",
        "colab_type": "code",
        "colab": {
          "base_uri": "https://localhost:8080/",
          "height": 204
        },
        "outputId": "09e6eaa4-7f87-4704-ab53-4fa772990a1f"
      },
      "source": [
        "for x in range(len(IRB['Close'])-1):\n",
        "  IRB.at[x+1,'Retorno'] = (IRB['Close'][x+1]-IRB['Close'][x])/IRB['Close'][x]\n",
        "#IRB['Retorno'][0] = 1\n",
        "IRB.head()\n"
      ],
      "execution_count": 16,
      "outputs": [
        {
          "output_type": "execute_result",
          "data": {
            "text/html": [
              "<div>\n",
              "<style scoped>\n",
              "    .dataframe tbody tr th:only-of-type {\n",
              "        vertical-align: middle;\n",
              "    }\n",
              "\n",
              "    .dataframe tbody tr th {\n",
              "        vertical-align: top;\n",
              "    }\n",
              "\n",
              "    .dataframe thead th {\n",
              "        text-align: right;\n",
              "    }\n",
              "</style>\n",
              "<table border=\"1\" class=\"dataframe\">\n",
              "  <thead>\n",
              "    <tr style=\"text-align: right;\">\n",
              "      <th></th>\n",
              "      <th>Date</th>\n",
              "      <th>Open</th>\n",
              "      <th>High</th>\n",
              "      <th>Low</th>\n",
              "      <th>Close</th>\n",
              "      <th>Adj Close</th>\n",
              "      <th>Volume</th>\n",
              "      <th>Retorno</th>\n",
              "    </tr>\n",
              "  </thead>\n",
              "  <tbody>\n",
              "    <tr>\n",
              "      <th>0</th>\n",
              "      <td>2019-07-19</td>\n",
              "      <td>29.483299</td>\n",
              "      <td>30.293301</td>\n",
              "      <td>29.263300</td>\n",
              "      <td>29.5333</td>\n",
              "      <td>28.839106</td>\n",
              "      <td>17312400.0</td>\n",
              "      <td>NaN</td>\n",
              "    </tr>\n",
              "    <tr>\n",
              "      <th>1</th>\n",
              "      <td>2019-07-22</td>\n",
              "      <td>29.833300</td>\n",
              "      <td>31.016701</td>\n",
              "      <td>29.790001</td>\n",
              "      <td>30.7500</td>\n",
              "      <td>30.027206</td>\n",
              "      <td>18860400.0</td>\n",
              "      <td>0.041198</td>\n",
              "    </tr>\n",
              "    <tr>\n",
              "      <th>2</th>\n",
              "      <td>2019-07-23</td>\n",
              "      <td>31.016701</td>\n",
              "      <td>31.746700</td>\n",
              "      <td>30.803301</td>\n",
              "      <td>31.7467</td>\n",
              "      <td>31.000481</td>\n",
              "      <td>53507400.0</td>\n",
              "      <td>0.032413</td>\n",
              "    </tr>\n",
              "    <tr>\n",
              "      <th>3</th>\n",
              "      <td>2019-07-24</td>\n",
              "      <td>31.633301</td>\n",
              "      <td>32.033298</td>\n",
              "      <td>31.133301</td>\n",
              "      <td>31.8333</td>\n",
              "      <td>31.085043</td>\n",
              "      <td>11141100.0</td>\n",
              "      <td>0.002728</td>\n",
              "    </tr>\n",
              "    <tr>\n",
              "      <th>4</th>\n",
              "      <td>2019-07-25</td>\n",
              "      <td>31.966700</td>\n",
              "      <td>31.966700</td>\n",
              "      <td>31.173300</td>\n",
              "      <td>31.8333</td>\n",
              "      <td>31.085043</td>\n",
              "      <td>9871200.0</td>\n",
              "      <td>0.000000</td>\n",
              "    </tr>\n",
              "  </tbody>\n",
              "</table>\n",
              "</div>"
            ],
            "text/plain": [
              "         Date       Open       High  ...  Adj Close      Volume   Retorno\n",
              "0  2019-07-19  29.483299  30.293301  ...  28.839106  17312400.0       NaN\n",
              "1  2019-07-22  29.833300  31.016701  ...  30.027206  18860400.0  0.041198\n",
              "2  2019-07-23  31.016701  31.746700  ...  31.000481  53507400.0  0.032413\n",
              "3  2019-07-24  31.633301  32.033298  ...  31.085043  11141100.0  0.002728\n",
              "4  2019-07-25  31.966700  31.966700  ...  31.085043   9871200.0  0.000000\n",
              "\n",
              "[5 rows x 8 columns]"
            ]
          },
          "metadata": {
            "tags": []
          },
          "execution_count": 16
        }
      ]
    },
    {
      "cell_type": "code",
      "metadata": {
        "id": "KP0ner8zeTBc",
        "colab_type": "code",
        "colab": {}
      },
      "source": [
        "for x in range(len(FLEURY['Close'])-1):\n",
        "  FLEURY.at[x+1,'Retorno'] = (FLEURY['Close'][x+1]-FLEURY['Close'][x])/FLEURY['Close'][x]\n"
      ],
      "execution_count": 17,
      "outputs": []
    },
    {
      "cell_type": "code",
      "metadata": {
        "id": "g0x81NUzejKK",
        "colab_type": "code",
        "colab": {}
      },
      "source": [
        "for x in range(len(RENNER['Close'])-1):\n",
        "  RENNER.at[x+1,'Retorno'] = (RENNER['Close'][x+1]-RENNER['Close'][x])/RENNER['Close'][x]\n"
      ],
      "execution_count": 18,
      "outputs": []
    },
    {
      "cell_type": "code",
      "metadata": {
        "id": "vh0aXTIles_m",
        "colab_type": "code",
        "colab": {}
      },
      "source": [
        "for x in range(len(SUZANO['Close'])-1):\n",
        "  SUZANO.at[x+1,'Retorno'] = (SUZANO['Close'][x+1]-SUZANO['Close'][x])/SUZANO['Close'][x]\n"
      ],
      "execution_count": 19,
      "outputs": []
    },
    {
      "cell_type": "code",
      "metadata": {
        "id": "boIzuz-Ae2Ol",
        "colab_type": "code",
        "colab": {}
      },
      "source": [
        "for x in range(len(NATURA['Close'])-1):\n",
        "  NATURA.at[x+1,'Retorno'] = (NATURA['Close'][x+1]-NATURA['Close'][x])/NATURA['Close'][x]\n"
      ],
      "execution_count": 20,
      "outputs": []
    },
    {
      "cell_type": "code",
      "metadata": {
        "id": "6npTXxCofCM6",
        "colab_type": "code",
        "colab": {}
      },
      "source": [
        "for x in range(len(TOTVS['Close'])-1):\n",
        "  TOTVS.at[x+1,'Retorno'] = (TOTVS['Close'][x+1]-TOTVS['Close'][x])/TOTVS['Close'][x]\n"
      ],
      "execution_count": 21,
      "outputs": []
    },
    {
      "cell_type": "markdown",
      "metadata": {
        "id": "W6uo8YrOpTQ8",
        "colab_type": "text"
      },
      "source": [
        "# **Log Returns**\n",
        "O retorno na forma logarítma, diferente dos outros retornos, é utlizado de forma contínua. Sendo assim, podemos calcular o retorno em qualquer taxa de tempo n. é chamado de retorno continuamente composto"
      ]
    },
    {
      "cell_type": "code",
      "metadata": {
        "id": "VvPlrVBYscNW",
        "colab_type": "code",
        "colab": {}
      },
      "source": [
        "import math"
      ],
      "execution_count": 22,
      "outputs": []
    },
    {
      "cell_type": "code",
      "metadata": {
        "id": "6QRFMBiep9v3",
        "colab_type": "code",
        "colab": {}
      },
      "source": [
        "for x in range(len(ABEV['Close'])-1):\n",
        "  ABEV.at[x+1,'Log_Retorno'] = np.log((ABEV['Close'][x+1]/ABEV['Close'][x]))\n",
        "  ABEV.head()\n",
        "  "
      ],
      "execution_count": 23,
      "outputs": []
    },
    {
      "cell_type": "code",
      "metadata": {
        "id": "LWshf-RCt3DV",
        "colab_type": "code",
        "colab": {
          "base_uri": "https://localhost:8080/",
          "height": 204
        },
        "outputId": "4a56010f-8168-44b2-d744-2720ba80bb39"
      },
      "source": [
        "ABEV.head()"
      ],
      "execution_count": 24,
      "outputs": [
        {
          "output_type": "execute_result",
          "data": {
            "text/html": [
              "<div>\n",
              "<style scoped>\n",
              "    .dataframe tbody tr th:only-of-type {\n",
              "        vertical-align: middle;\n",
              "    }\n",
              "\n",
              "    .dataframe tbody tr th {\n",
              "        vertical-align: top;\n",
              "    }\n",
              "\n",
              "    .dataframe thead th {\n",
              "        text-align: right;\n",
              "    }\n",
              "</style>\n",
              "<table border=\"1\" class=\"dataframe\">\n",
              "  <thead>\n",
              "    <tr style=\"text-align: right;\">\n",
              "      <th></th>\n",
              "      <th>Date</th>\n",
              "      <th>Open</th>\n",
              "      <th>High</th>\n",
              "      <th>Low</th>\n",
              "      <th>Close</th>\n",
              "      <th>Adj Close</th>\n",
              "      <th>Volume</th>\n",
              "      <th>Retorno</th>\n",
              "      <th>Log_Retorno</th>\n",
              "    </tr>\n",
              "  </thead>\n",
              "  <tbody>\n",
              "    <tr>\n",
              "      <th>0</th>\n",
              "      <td>2019-07-19</td>\n",
              "      <td>18.230000</td>\n",
              "      <td>18.520000</td>\n",
              "      <td>18.049999</td>\n",
              "      <td>18.090000</td>\n",
              "      <td>17.627039</td>\n",
              "      <td>15923300.0</td>\n",
              "      <td>NaN</td>\n",
              "      <td>NaN</td>\n",
              "    </tr>\n",
              "    <tr>\n",
              "      <th>1</th>\n",
              "      <td>2019-07-22</td>\n",
              "      <td>18.070000</td>\n",
              "      <td>18.250000</td>\n",
              "      <td>17.850000</td>\n",
              "      <td>17.990000</td>\n",
              "      <td>17.529598</td>\n",
              "      <td>12533800.0</td>\n",
              "      <td>-0.005528</td>\n",
              "      <td>-0.005543</td>\n",
              "    </tr>\n",
              "    <tr>\n",
              "      <th>2</th>\n",
              "      <td>2019-07-23</td>\n",
              "      <td>18.000000</td>\n",
              "      <td>18.270000</td>\n",
              "      <td>17.959999</td>\n",
              "      <td>18.030001</td>\n",
              "      <td>17.568575</td>\n",
              "      <td>15130100.0</td>\n",
              "      <td>0.002224</td>\n",
              "      <td>0.002221</td>\n",
              "    </tr>\n",
              "    <tr>\n",
              "      <th>3</th>\n",
              "      <td>2019-07-24</td>\n",
              "      <td>18.190001</td>\n",
              "      <td>18.219999</td>\n",
              "      <td>17.940001</td>\n",
              "      <td>17.959999</td>\n",
              "      <td>17.500364</td>\n",
              "      <td>11971400.0</td>\n",
              "      <td>-0.003883</td>\n",
              "      <td>-0.003890</td>\n",
              "    </tr>\n",
              "    <tr>\n",
              "      <th>4</th>\n",
              "      <td>2019-07-25</td>\n",
              "      <td>19.000000</td>\n",
              "      <td>19.719999</td>\n",
              "      <td>18.760000</td>\n",
              "      <td>19.490000</td>\n",
              "      <td>18.991209</td>\n",
              "      <td>75250600.0</td>\n",
              "      <td>0.085189</td>\n",
              "      <td>0.081755</td>\n",
              "    </tr>\n",
              "  </tbody>\n",
              "</table>\n",
              "</div>"
            ],
            "text/plain": [
              "         Date       Open       High  ...      Volume   Retorno  Log_Retorno\n",
              "0  2019-07-19  18.230000  18.520000  ...  15923300.0       NaN          NaN\n",
              "1  2019-07-22  18.070000  18.250000  ...  12533800.0 -0.005528    -0.005543\n",
              "2  2019-07-23  18.000000  18.270000  ...  15130100.0  0.002224     0.002221\n",
              "3  2019-07-24  18.190001  18.219999  ...  11971400.0 -0.003883    -0.003890\n",
              "4  2019-07-25  19.000000  19.719999  ...  75250600.0  0.085189     0.081755\n",
              "\n",
              "[5 rows x 9 columns]"
            ]
          },
          "metadata": {
            "tags": []
          },
          "execution_count": 24
        }
      ]
    },
    {
      "cell_type": "code",
      "metadata": {
        "id": "0OM8hqZIum9F",
        "colab_type": "code",
        "colab": {}
      },
      "source": [
        "for x in range(len(ITUB['Close'])-1):\n",
        "  ITUB.at[x+1,'Log_Retorno'] = np.log((ITUB['Close'][x+1]/ITUB['Close'][x]))"
      ],
      "execution_count": 33,
      "outputs": []
    },
    {
      "cell_type": "code",
      "metadata": {
        "id": "PUVS8-_5uwlE",
        "colab_type": "code",
        "colab": {}
      },
      "source": [
        "for x in range(len(IRB['Close'])-1):\n",
        "  IRB.at[x+1,'Log_Retorno'] = np.log((IRB['Close'][x+1]/IRB['Close'][x]))"
      ],
      "execution_count": 34,
      "outputs": []
    },
    {
      "cell_type": "code",
      "metadata": {
        "id": "KvB_pTGEu4gi",
        "colab_type": "code",
        "colab": {}
      },
      "source": [
        "for x in range(len(B3['Close'])-1):\n",
        "  B3.at[x+1,'Log_Retorno'] = np.log((B3['Close'][x+1]/B3['Close'][x]))"
      ],
      "execution_count": 35,
      "outputs": []
    },
    {
      "cell_type": "code",
      "metadata": {
        "id": "5LuvTZoOwxtg",
        "colab_type": "code",
        "colab": {}
      },
      "source": [
        "for x in range(len(AZUL['Close'])-1):\n",
        "  AZUL.at[x+1,'Log_Retorno'] = np.log((AZUL['Close'][x+1]/AZUL['Close'][x]))"
      ],
      "execution_count": 36,
      "outputs": []
    },
    {
      "cell_type": "code",
      "metadata": {
        "id": "nkm4V4a_w3fL",
        "colab_type": "code",
        "colab": {}
      },
      "source": [
        "for x in range(len(BRAD['Close'])-1):\n",
        "  BRAD.at[x+1,'Log_Retorno'] = np.log((BRAD['Close'][x+1]/BRAD['Close'][x]))"
      ],
      "execution_count": 37,
      "outputs": []
    },
    {
      "cell_type": "code",
      "metadata": {
        "id": "2QBdbGbUxAHe",
        "colab_type": "code",
        "colab": {}
      },
      "source": [
        "for x in range(len(NEOE['Close'])-1):\n",
        "  NEOE.at[x+1,'Log_Retorno'] = np.log((NEOE['Close'][x+1]/NEOE['Close'][x]))"
      ],
      "execution_count": 38,
      "outputs": []
    },
    {
      "cell_type": "code",
      "metadata": {
        "id": "XDFz5meuxLD-",
        "colab_type": "code",
        "colab": {}
      },
      "source": [
        "for x in range(len(PETR['Close'])-1):\n",
        "  PETR.at[x+1,'Log_Retorno'] = np.log((PETR['Close'][x+1]/PETR['Close'][x]))"
      ],
      "execution_count": 39,
      "outputs": []
    },
    {
      "cell_type": "code",
      "metadata": {
        "id": "IyW-VW8bxRVY",
        "colab_type": "code",
        "colab": {}
      },
      "source": [
        "for x in range(len(RAIA['Close'])-1):\n",
        "  RAIA.at[x+1,'Log_Retorno'] = np.log((RAIA['Close'][x+1]/RAIA['Close'][x]))"
      ],
      "execution_count": 40,
      "outputs": []
    },
    {
      "cell_type": "code",
      "metadata": {
        "id": "Qw-vs2sAf2f4",
        "colab_type": "code",
        "colab": {}
      },
      "source": [
        "for x in range(len(NATURA['Close'])-1):\n",
        "  NATURA.at[x+1,'Log_Retorno'] = np.log((NATURA['Close'][x+1]/NATURA['Close'][x]))"
      ],
      "execution_count": 41,
      "outputs": []
    },
    {
      "cell_type": "code",
      "metadata": {
        "id": "nstuixsbf2_S",
        "colab_type": "code",
        "colab": {}
      },
      "source": [
        "for x in range(len(FLEURY['Close'])-1):\n",
        "  FLEURY.at[x+1,'Log_Retorno'] = np.log((FLEURY['Close'][x+1]/FLEURY['Close'][x]))"
      ],
      "execution_count": 42,
      "outputs": []
    },
    {
      "cell_type": "code",
      "metadata": {
        "id": "lXeYlAMmf3Op",
        "colab_type": "code",
        "colab": {}
      },
      "source": [
        "for x in range(len(RENNER['Close'])-1):\n",
        "  RENNER.at[x+1,'Log_Retorno'] = np.log((RENNER['Close'][x+1]/RENNER['Close'][x]))"
      ],
      "execution_count": 43,
      "outputs": []
    },
    {
      "cell_type": "code",
      "metadata": {
        "id": "xhWsnC45f3b6",
        "colab_type": "code",
        "colab": {}
      },
      "source": [
        "for x in range(len(SUZANO['Close'])-1):\n",
        "  SUZANO.at[x+1,'Log_Retorno'] = np.log((SUZANO['Close'][x+1]/SUZANO['Close'][x]))"
      ],
      "execution_count": 44,
      "outputs": []
    },
    {
      "cell_type": "code",
      "metadata": {
        "id": "V4Xvhcn4f3oL",
        "colab_type": "code",
        "colab": {}
      },
      "source": [
        "for x in range(len(TOTVS['Close'])-1):\n",
        "  TOTVS.at[x+1,'Log_Retorno'] = np.log((TOTVS['Close'][x+1]/TOTVS['Close'][x]))"
      ],
      "execution_count": 45,
      "outputs": []
    },
    {
      "cell_type": "markdown",
      "metadata": {
        "id": "1iFinkX0yQjF",
        "colab_type": "text"
      },
      "source": [
        "## Cálculo de retorno no período"
      ]
    },
    {
      "cell_type": "code",
      "metadata": {
        "id": "jdQWNshIvnrJ",
        "colab_type": "code",
        "colab": {
          "base_uri": "https://localhost:8080/",
          "height": 255
        },
        "outputId": "55e0557a-d929-4f7a-eef6-e3d7dd07445c"
      },
      "source": [
        "#Calculando o retorno continuamente composto\n",
        "log_ambev_total = ABEV['Log_Retorno'].sum()\n",
        "log_AZUL_total = AZUL['Log_Retorno'].sum()\n",
        "log_B3_total = B3['Log_Retorno'].sum()\n",
        "log_BRAD_total = BRAD['Log_Retorno'].sum()\n",
        "log_ITUB_total = ITUB['Log_Retorno'].sum()\n",
        "log_IRB_total = IRB['Log_Retorno'].sum()\n",
        "log_NEO_total = NEOE['Log_Retorno'].sum()\n",
        "log_PETR_total = PETR['Log_Retorno'].sum()\n",
        "log_RAIA_total = RAIA['Log_Retorno'].sum()\n",
        "log_NATURA_total = NATURA['Log_Retorno'].sum()\n",
        "log_FLEURY_total = FLEURY['Log_Retorno'].sum()\n",
        "log_SUZANO_total = SUZANO['Log_Retorno'].sum()\n",
        "log_RENNER_total = RENNER['Log_Retorno'].sum()\n",
        "log_TOTVS_total = TOTVS['Log_Retorno'].sum()\n",
        "print(log_ambev_total)\n",
        "print(log_B3_total)\n",
        "print(log_ITUB_total)\n",
        "print(log_IRB_total)\n",
        "print(log_AZUL_total)\n",
        "print(log_BRAD_total)\n",
        "print(log_NEO_total)\n",
        "print(log_PETR_total)\n",
        "print(log_RAIA_total)\n",
        "print(log_NATURA_total)\n",
        "print(log_FLEURY_total)\n",
        "print(log_SUZANO_total)\n",
        "print(log_RENNER_total)\n",
        "print(log_TOTVS_total)"
      ],
      "execution_count": 46,
      "outputs": [
        {
          "output_type": "stream",
          "text": [
            "-0.13099395179241202\n",
            "0.5815223715876809\n",
            "-0.24009632251527677\n",
            "-1.236615370476639\n",
            "-0.6145601516364885\n",
            "-0.4579128830289966\n",
            "0.2341840022203277\n",
            "-0.04656894073625695\n",
            "0.4531978898383357\n",
            "0.1964517457631348\n",
            "0.1864792660932426\n",
            "0.26895583201908047\n",
            "-0.017183531980985156\n",
            "-0.5022219303432973\n"
          ],
          "name": "stdout"
        }
      ]
    },
    {
      "cell_type": "code",
      "metadata": {
        "id": "KEdDT9v61vZ0",
        "colab_type": "code",
        "colab": {
          "base_uri": "https://localhost:8080/",
          "height": 255
        },
        "outputId": "e6b66940-81ba-4084-8c23-bbea9a48a0f9"
      },
      "source": [
        "#Calculando o Retorno liquido\n",
        "retorno_liquido_AMBEV = np.exp(log_ambev_total) - 1\n",
        "retorno_liquido_B3 = np.exp(log_B3_total) - 1\n",
        "retorno_liquido_ITUB = np.exp(log_ITUB_total) - 1\n",
        "retorno_liquido_IRB = np.exp(log_IRB_total) - 1\n",
        "retorno_liquido_AZUL = np.exp(log_AZUL_total) - 1\n",
        "retorno_liquido_BRAD = np.exp(log_BRAD_total) - 1\n",
        "retorno_liquido_NEO = np.exp(log_NEO_total) - 1\n",
        "retorno_liquido_PETR = np.exp(log_PETR_total) - 1\n",
        "retorno_liquido_RAIA = np.exp(log_RAIA_total) - 1\n",
        "retorno_liquido_NATURA = np.exp(log_NATURA_total) - 1\n",
        "retorno_liquido_FLEURY = np.exp(log_FLEURY_total) - 1\n",
        "retorno_liquido_RENNER = np.exp(log_RENNER_total) - 1\n",
        "retorno_liquido_SUZANO = np.exp(log_SUZANO_total) - 1\n",
        "retorno_liquido_TOTVS = np.exp(log_TOTVS_total) - 1\n",
        "print(retorno_liquido_AMBEV)\n",
        "print(retorno_liquido_B3)\n",
        "print(retorno_liquido_ITUB)\n",
        "print(retorno_liquido_IRB)\n",
        "print(retorno_liquido_AZUL)\n",
        "print(retorno_liquido_BRAD)\n",
        "print(retorno_liquido_NEO)\n",
        "print(retorno_liquido_PETR)\n",
        "print(retorno_liquido_RAIA)\n",
        "print(retorno_liquido_NATURA)\n",
        "print(retorno_liquido_FLEURY)\n",
        "print(retorno_liquido_RENNER)\n",
        "print(retorno_liquido_SUZANO)\n",
        "print(retorno_liquido_TOTVS)"
      ],
      "execution_count": 47,
      "outputs": [
        {
          "output_type": "stream",
          "text": [
            "-0.12277691999771234\n",
            "0.7887595156371778\n",
            "-0.21344790525855117\n",
            "-0.7096346642698144\n",
            "-0.4591212523719923\n",
            "-0.3673974157721065\n",
            "0.2638770269928512\n",
            "-0.04550124554525303\n",
            "0.5733355028182932\n",
            "0.21707659035913296\n",
            "0.2049996374765568\n",
            "-0.01703673711603737\n",
            "0.3085973416676169\n",
            "-0.3948155130594224\n"
          ],
          "name": "stdout"
        }
      ]
    },
    {
      "cell_type": "markdown",
      "metadata": {
        "id": "0M1ycRYm3D_5",
        "colab_type": "text"
      },
      "source": [
        "###MATRIZ DE CORRELAÇÃO ENTRE OS ATIVOS"
      ]
    },
    {
      "cell_type": "code",
      "metadata": {
        "id": "kUPpNFtt3JyJ",
        "colab_type": "code",
        "colab": {
          "base_uri": "https://localhost:8080/",
          "height": 204
        },
        "outputId": "1e02dd11-727e-40f9-b4bc-a4043964b3f6"
      },
      "source": [
        "#Criando a Matriz de retorno dos 4 ativos\n",
        "Retornos = pd.DataFrame()\n",
        "Retornos['ABEV3'] = ABEV['Retorno']\n",
        "Retornos['B3SA3'] = B3['Retorno']\n",
        "Retornos['ITUB4'] = ITUB['Retorno']\n",
        "Retornos['IRBR3'] = IRB['Retorno']\n",
        "Retornos['BBDC4'] = BRAD['Retorno']\n",
        "Retornos['AZUL4'] = AZUL['Retorno']\n",
        "Retornos['NEOE3'] = NEOE['Retorno']\n",
        "Retornos['PETR4'] = PETR['Retorno']\n",
        "Retornos['RADL3'] = RAIA['Retorno']\n",
        "Retornos['NTCO3'] = NATURA['Retorno']\n",
        "Retornos['FLRY3'] = FLEURY['Retorno']\n",
        "Retornos['LREN3'] = RENNER['Retorno']\n",
        "Retornos['SUZB3'] = SUZANO['Retorno']\n",
        "Retornos['TOTS3'] = TOTVS['Retorno']\n",
        "Retornos.head()"
      ],
      "execution_count": 48,
      "outputs": [
        {
          "output_type": "execute_result",
          "data": {
            "text/html": [
              "<div>\n",
              "<style scoped>\n",
              "    .dataframe tbody tr th:only-of-type {\n",
              "        vertical-align: middle;\n",
              "    }\n",
              "\n",
              "    .dataframe tbody tr th {\n",
              "        vertical-align: top;\n",
              "    }\n",
              "\n",
              "    .dataframe thead th {\n",
              "        text-align: right;\n",
              "    }\n",
              "</style>\n",
              "<table border=\"1\" class=\"dataframe\">\n",
              "  <thead>\n",
              "    <tr style=\"text-align: right;\">\n",
              "      <th></th>\n",
              "      <th>ABEV3</th>\n",
              "      <th>B3SA3</th>\n",
              "      <th>ITUB4</th>\n",
              "      <th>IRBR3</th>\n",
              "      <th>BBDC4</th>\n",
              "      <th>AZUL4</th>\n",
              "      <th>NEOE3</th>\n",
              "      <th>PETR4</th>\n",
              "      <th>RADL3</th>\n",
              "      <th>NTCO3</th>\n",
              "      <th>FLRY3</th>\n",
              "      <th>LREN3</th>\n",
              "      <th>SUZB3</th>\n",
              "      <th>TOTS3</th>\n",
              "    </tr>\n",
              "  </thead>\n",
              "  <tbody>\n",
              "    <tr>\n",
              "      <th>0</th>\n",
              "      <td>NaN</td>\n",
              "      <td>1.000000</td>\n",
              "      <td>1.000000</td>\n",
              "      <td>NaN</td>\n",
              "      <td>NaN</td>\n",
              "      <td>NaN</td>\n",
              "      <td>NaN</td>\n",
              "      <td>NaN</td>\n",
              "      <td>NaN</td>\n",
              "      <td>NaN</td>\n",
              "      <td>NaN</td>\n",
              "      <td>NaN</td>\n",
              "      <td>NaN</td>\n",
              "      <td>NaN</td>\n",
              "    </tr>\n",
              "    <tr>\n",
              "      <th>1</th>\n",
              "      <td>-0.005528</td>\n",
              "      <td>0.023458</td>\n",
              "      <td>0.017033</td>\n",
              "      <td>0.041198</td>\n",
              "      <td>0.013830</td>\n",
              "      <td>0.004024</td>\n",
              "      <td>-0.012828</td>\n",
              "      <td>0.001822</td>\n",
              "      <td>0.001161</td>\n",
              "      <td>0.056855</td>\n",
              "      <td>-0.015313</td>\n",
              "      <td>0.008483</td>\n",
              "      <td>-0.011790</td>\n",
              "      <td>0.002088</td>\n",
              "    </tr>\n",
              "    <tr>\n",
              "      <th>2</th>\n",
              "      <td>0.002224</td>\n",
              "      <td>-0.014724</td>\n",
              "      <td>0.009725</td>\n",
              "      <td>0.032413</td>\n",
              "      <td>0.003410</td>\n",
              "      <td>-0.017435</td>\n",
              "      <td>0.002825</td>\n",
              "      <td>0.001091</td>\n",
              "      <td>-0.000258</td>\n",
              "      <td>0.004891</td>\n",
              "      <td>0.002592</td>\n",
              "      <td>-0.021030</td>\n",
              "      <td>-0.018966</td>\n",
              "      <td>0.002708</td>\n",
              "    </tr>\n",
              "    <tr>\n",
              "      <th>3</th>\n",
              "      <td>-0.003883</td>\n",
              "      <td>0.041853</td>\n",
              "      <td>-0.000803</td>\n",
              "      <td>0.002728</td>\n",
              "      <td>0.018824</td>\n",
              "      <td>0.008566</td>\n",
              "      <td>-0.002817</td>\n",
              "      <td>-0.006177</td>\n",
              "      <td>0.029651</td>\n",
              "      <td>0.020748</td>\n",
              "      <td>0.016803</td>\n",
              "      <td>0.003652</td>\n",
              "      <td>-0.000624</td>\n",
              "      <td>0.009142</td>\n",
              "    </tr>\n",
              "    <tr>\n",
              "      <th>4</th>\n",
              "      <td>0.085189</td>\n",
              "      <td>-0.015036</td>\n",
              "      <td>-0.030790</td>\n",
              "      <td>0.000000</td>\n",
              "      <td>-0.058250</td>\n",
              "      <td>0.029120</td>\n",
              "      <td>-0.003390</td>\n",
              "      <td>-0.016819</td>\n",
              "      <td>-0.000751</td>\n",
              "      <td>-0.010289</td>\n",
              "      <td>0.006356</td>\n",
              "      <td>-0.013271</td>\n",
              "      <td>-0.010296</td>\n",
              "      <td>-0.006588</td>\n",
              "    </tr>\n",
              "  </tbody>\n",
              "</table>\n",
              "</div>"
            ],
            "text/plain": [
              "      ABEV3     B3SA3     ITUB4  ...     LREN3     SUZB3     TOTS3\n",
              "0       NaN  1.000000  1.000000  ...       NaN       NaN       NaN\n",
              "1 -0.005528  0.023458  0.017033  ...  0.008483 -0.011790  0.002088\n",
              "2  0.002224 -0.014724  0.009725  ... -0.021030 -0.018966  0.002708\n",
              "3 -0.003883  0.041853 -0.000803  ...  0.003652 -0.000624  0.009142\n",
              "4  0.085189 -0.015036 -0.030790  ... -0.013271 -0.010296 -0.006588\n",
              "\n",
              "[5 rows x 14 columns]"
            ]
          },
          "metadata": {
            "tags": []
          },
          "execution_count": 48
        }
      ]
    },
    {
      "cell_type": "code",
      "metadata": {
        "id": "En9HIVNh5h5g",
        "colab_type": "code",
        "colab": {
          "base_uri": "https://localhost:8080/",
          "height": 721
        },
        "outputId": "139e78ae-3ff6-4d24-f786-e5f1644f5e04"
      },
      "source": [
        "#Analisando a correlação dos ativos\n",
        "import matplotlib.pyplot as plt\n",
        "import seaborn as sns\n",
        "plt.subplots(figsize=(20,12))\n",
        "sns.heatmap(Retornos.corr(),annot = True, cmap='jet')\n",
        "#referencia de cores https://matplotlib.org/examples/color/colormaps_reference.html"
      ],
      "execution_count": 55,
      "outputs": [
        {
          "output_type": "execute_result",
          "data": {
            "text/plain": [
              "<matplotlib.axes._subplots.AxesSubplot at 0x7f1a2b0d4400>"
            ]
          },
          "metadata": {
            "tags": []
          },
          "execution_count": 55
        },
        {
          "output_type": "display_data",
          "data": {
            "image/png": "[encoded data removed]",
            "text/plain": [
              "<Figure size 1440x864 with 2 Axes>"
            ]
          },
          "metadata": {
            "tags": [],
            "needs_background": "light"
          }
        }
      ]
    }
  ]
}