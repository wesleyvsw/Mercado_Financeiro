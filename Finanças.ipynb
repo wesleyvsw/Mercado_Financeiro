{
  "nbformat": 4,
  "nbformat_minor": 0,
  "metadata": {
    "colab": {
      "name": "Finanças.ipynb",
      "provenance": [],
      "authorship_tag": "ABX9TyNY8OyZ9pBiTndKYzzxKBl/"
    },
    "kernelspec": {
      "name": "python3",
      "display_name": "Python 3"
    }
  },
  "cells": [
    {
      "cell_type": "markdown",
      "metadata": {
        "id": "efhCsiedE7YL",
        "colab_type": "text"
      },
      "source": [
        "# **Mercado Financeiro**\n",
        "Notebook utilizado para análise de dados do mercado financeiro utilizando as seguintes ações da Bolsa B3 de São Paulo: B3SA3,ITUB4,IRBR3,ABEV3.\n",
        "Começando pelo cálculo do retorno diário, passando por risco/retorno de um ativo e cálculo de betas."
      ]
    },
    {
      "cell_type": "markdown",
      "metadata": {
        "id": "7hIUJid2GLaj",
        "colab_type": "text"
      },
      "source": [
        "##Importando as bibliotecas e fazendo o upload dos arquivos"
      ]
    },
    {
      "cell_type": "code",
      "metadata": {
        "id": "WDmDS-rWXRsN",
        "colab_type": "code",
        "colab": {}
      },
      "source": [
        "import numpy as np\n",
        "import pandas as pd"
      ],
      "execution_count": 40,
      "outputs": []
    },
    {
      "cell_type": "code",
      "metadata": {
        "id": "pahfQf4wXvYj",
        "colab_type": "code",
        "colab": {
          "resources": {
            "http://localhost:8080/nbextensions/google.colab/files.js": {
              "data": "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",
              "ok": true,
              "headers": [
                [
                  "content-type",
                  "application/javascript"
                ]
              ],
              "status": 200,
              "status_text": ""
            }
          },
          "base_uri": "https://localhost:8080/",
          "height": 175
        },
        "outputId": "565b4a9c-5ee3-40e8-ac2a-2cd4b605b3d6"
      },
      "source": [
        "from google.colab import files\n",
        "up1= files.upload()\n"
      ],
      "execution_count": 41,
      "outputs": [
        {
          "output_type": "display_data",
          "data": {
            "text/html": [
              "\n",
              "     <input type=\"file\" id=\"files-c8692daf-28bc-4138-bfcf-e789a9358257\" name=\"files[]\" multiple disabled\n",
              "        style=\"border:none\" />\n",
              "     <output id=\"result-c8692daf-28bc-4138-bfcf-e789a9358257\">\n",
              "      Upload widget is only available when the cell has been executed in the\n",
              "      current browser session. Please rerun this cell to enable.\n",
              "      </output>\n",
              "      <script src=\"/nbextensions/google.colab/files.js\"></script> "
            ],
            "text/plain": [
              "<IPython.core.display.HTML object>"
            ]
          },
          "metadata": {
            "tags": []
          }
        },
        {
          "output_type": "stream",
          "text": [
            "Saving IRBR3.SA.csv to IRBR3.SA (1).csv\n",
            "Saving ITUB4.SA.csv to ITUB4.SA (1).csv\n",
            "Saving ABEV3.SA.csv to ABEV3.SA (1).csv\n",
            "Saving B3SA3.SA.csv to B3SA3.SA (1).csv\n"
          ],
          "name": "stdout"
        }
      ]
    },
    {
      "cell_type": "code",
      "metadata": {
        "id": "lA3Bfbc5Ynjz",
        "colab_type": "code",
        "colab": {
          "base_uri": "https://localhost:8080/",
          "height": 204
        },
        "outputId": "eaa34cba-b735-4561-91d8-d5f4a9977acf"
      },
      "source": [
        "ABEV = pd.read_csv(\"ABEV3.SA.csv\")\n",
        "B3 = pd.read_csv(\"B3SA3.SA.csv\")\n",
        "IRB = pd.read_csv(\"IRBR3.SA.csv\")\n",
        "ITUB = pd.read_csv(\"ITUB4.SA.csv\")\n",
        "ABEV.head()"
      ],
      "execution_count": 42,
      "outputs": [
        {
          "output_type": "execute_result",
          "data": {
            "text/html": [
              "<div>\n",
              "<style scoped>\n",
              "    .dataframe tbody tr th:only-of-type {\n",
              "        vertical-align: middle;\n",
              "    }\n",
              "\n",
              "    .dataframe tbody tr th {\n",
              "        vertical-align: top;\n",
              "    }\n",
              "\n",
              "    .dataframe thead th {\n",
              "        text-align: right;\n",
              "    }\n",
              "</style>\n",
              "<table border=\"1\" class=\"dataframe\">\n",
              "  <thead>\n",
              "    <tr style=\"text-align: right;\">\n",
              "      <th></th>\n",
              "      <th>Date</th>\n",
              "      <th>Open</th>\n",
              "      <th>High</th>\n",
              "      <th>Low</th>\n",
              "      <th>Close</th>\n",
              "      <th>Adj Close</th>\n",
              "      <th>Volume</th>\n",
              "    </tr>\n",
              "  </thead>\n",
              "  <tbody>\n",
              "    <tr>\n",
              "      <th>0</th>\n",
              "      <td>2019-07-08</td>\n",
              "      <td>19.040001</td>\n",
              "      <td>19.180000</td>\n",
              "      <td>18.76</td>\n",
              "      <td>18.940001</td>\n",
              "      <td>18.455286</td>\n",
              "      <td>18757800.0</td>\n",
              "    </tr>\n",
              "    <tr>\n",
              "      <th>1</th>\n",
              "      <td>2019-07-10</td>\n",
              "      <td>18.950001</td>\n",
              "      <td>19.240000</td>\n",
              "      <td>18.82</td>\n",
              "      <td>19.020000</td>\n",
              "      <td>18.533239</td>\n",
              "      <td>33415700.0</td>\n",
              "    </tr>\n",
              "    <tr>\n",
              "      <th>2</th>\n",
              "      <td>2019-07-11</td>\n",
              "      <td>19.070000</td>\n",
              "      <td>19.180000</td>\n",
              "      <td>18.60</td>\n",
              "      <td>18.690001</td>\n",
              "      <td>18.211685</td>\n",
              "      <td>18302600.0</td>\n",
              "    </tr>\n",
              "    <tr>\n",
              "      <th>3</th>\n",
              "      <td>2019-07-12</td>\n",
              "      <td>18.700001</td>\n",
              "      <td>18.700001</td>\n",
              "      <td>18.10</td>\n",
              "      <td>18.200001</td>\n",
              "      <td>17.734224</td>\n",
              "      <td>31136800.0</td>\n",
              "    </tr>\n",
              "    <tr>\n",
              "      <th>4</th>\n",
              "      <td>2019-07-15</td>\n",
              "      <td>18.400000</td>\n",
              "      <td>18.410000</td>\n",
              "      <td>18.10</td>\n",
              "      <td>18.250000</td>\n",
              "      <td>17.782944</td>\n",
              "      <td>16291700.0</td>\n",
              "    </tr>\n",
              "  </tbody>\n",
              "</table>\n",
              "</div>"
            ],
            "text/plain": [
              "         Date       Open       High    Low      Close  Adj Close      Volume\n",
              "0  2019-07-08  19.040001  19.180000  18.76  18.940001  18.455286  18757800.0\n",
              "1  2019-07-10  18.950001  19.240000  18.82  19.020000  18.533239  33415700.0\n",
              "2  2019-07-11  19.070000  19.180000  18.60  18.690001  18.211685  18302600.0\n",
              "3  2019-07-12  18.700001  18.700001  18.10  18.200001  17.734224  31136800.0\n",
              "4  2019-07-15  18.400000  18.410000  18.10  18.250000  17.782944  16291700.0"
            ]
          },
          "metadata": {
            "tags": []
          },
          "execution_count": 42
        }
      ]
    },
    {
      "cell_type": "markdown",
      "metadata": {
        "id": "qFidB2Y-GXOL",
        "colab_type": "text"
      },
      "source": [
        "## Cálculo dos Retornos diários"
      ]
    },
    {
      "cell_type": "code",
      "metadata": {
        "id": "ydEF11_4Zlaw",
        "colab_type": "code",
        "colab": {}
      },
      "source": [
        "#ABEV['Retorno'][0] = 1.0\n",
        "\n",
        "for x in range(len(ABEV['Close'])-1):\n",
        "  #ABEV.at[x+1,'Retorno'] =10\n",
        "  ABEV.at[x+1,'Retorno'] = (ABEV['Close'][x+1]-ABEV['Close'][x])/ABEV['Close'][x]\n",
        "  ABEV.head()"
      ],
      "execution_count": 43,
      "outputs": []
    },
    {
      "cell_type": "code",
      "metadata": {
        "id": "_2sga9Jw59_M",
        "colab_type": "code",
        "colab": {
          "base_uri": "https://localhost:8080/",
          "height": 204
        },
        "outputId": "53ece555-eeb4-4c00-d83e-35bd42357937"
      },
      "source": [
        "ABEV.head()"
      ],
      "execution_count": 44,
      "outputs": [
        {
          "output_type": "execute_result",
          "data": {
            "text/html": [
              "<div>\n",
              "<style scoped>\n",
              "    .dataframe tbody tr th:only-of-type {\n",
              "        vertical-align: middle;\n",
              "    }\n",
              "\n",
              "    .dataframe tbody tr th {\n",
              "        vertical-align: top;\n",
              "    }\n",
              "\n",
              "    .dataframe thead th {\n",
              "        text-align: right;\n",
              "    }\n",
              "</style>\n",
              "<table border=\"1\" class=\"dataframe\">\n",
              "  <thead>\n",
              "    <tr style=\"text-align: right;\">\n",
              "      <th></th>\n",
              "      <th>Date</th>\n",
              "      <th>Open</th>\n",
              "      <th>High</th>\n",
              "      <th>Low</th>\n",
              "      <th>Close</th>\n",
              "      <th>Adj Close</th>\n",
              "      <th>Volume</th>\n",
              "      <th>Retorno</th>\n",
              "    </tr>\n",
              "  </thead>\n",
              "  <tbody>\n",
              "    <tr>\n",
              "      <th>0</th>\n",
              "      <td>2019-07-08</td>\n",
              "      <td>19.040001</td>\n",
              "      <td>19.180000</td>\n",
              "      <td>18.76</td>\n",
              "      <td>18.940001</td>\n",
              "      <td>18.455286</td>\n",
              "      <td>18757800.0</td>\n",
              "      <td>NaN</td>\n",
              "    </tr>\n",
              "    <tr>\n",
              "      <th>1</th>\n",
              "      <td>2019-07-10</td>\n",
              "      <td>18.950001</td>\n",
              "      <td>19.240000</td>\n",
              "      <td>18.82</td>\n",
              "      <td>19.020000</td>\n",
              "      <td>18.533239</td>\n",
              "      <td>33415700.0</td>\n",
              "      <td>0.004224</td>\n",
              "    </tr>\n",
              "    <tr>\n",
              "      <th>2</th>\n",
              "      <td>2019-07-11</td>\n",
              "      <td>19.070000</td>\n",
              "      <td>19.180000</td>\n",
              "      <td>18.60</td>\n",
              "      <td>18.690001</td>\n",
              "      <td>18.211685</td>\n",
              "      <td>18302600.0</td>\n",
              "      <td>-0.017350</td>\n",
              "    </tr>\n",
              "    <tr>\n",
              "      <th>3</th>\n",
              "      <td>2019-07-12</td>\n",
              "      <td>18.700001</td>\n",
              "      <td>18.700001</td>\n",
              "      <td>18.10</td>\n",
              "      <td>18.200001</td>\n",
              "      <td>17.734224</td>\n",
              "      <td>31136800.0</td>\n",
              "      <td>-0.026217</td>\n",
              "    </tr>\n",
              "    <tr>\n",
              "      <th>4</th>\n",
              "      <td>2019-07-15</td>\n",
              "      <td>18.400000</td>\n",
              "      <td>18.410000</td>\n",
              "      <td>18.10</td>\n",
              "      <td>18.250000</td>\n",
              "      <td>17.782944</td>\n",
              "      <td>16291700.0</td>\n",
              "      <td>0.002747</td>\n",
              "    </tr>\n",
              "  </tbody>\n",
              "</table>\n",
              "</div>"
            ],
            "text/plain": [
              "         Date       Open       High  ...  Adj Close      Volume   Retorno\n",
              "0  2019-07-08  19.040001  19.180000  ...  18.455286  18757800.0       NaN\n",
              "1  2019-07-10  18.950001  19.240000  ...  18.533239  33415700.0  0.004224\n",
              "2  2019-07-11  19.070000  19.180000  ...  18.211685  18302600.0 -0.017350\n",
              "3  2019-07-12  18.700001  18.700001  ...  17.734224  31136800.0 -0.026217\n",
              "4  2019-07-15  18.400000  18.410000  ...  17.782944  16291700.0  0.002747\n",
              "\n",
              "[5 rows x 8 columns]"
            ]
          },
          "metadata": {
            "tags": []
          },
          "execution_count": 44
        }
      ]
    },
    {
      "cell_type": "code",
      "metadata": {
        "id": "0ABXb8ekAvt2",
        "colab_type": "code",
        "colab": {
          "base_uri": "https://localhost:8080/",
          "height": 289
        },
        "outputId": "628e466c-5a25-413b-c985-528ad36e16f8"
      },
      "source": [
        "for x in range(len(ITUB['Close'])-1):\n",
        "  ITUB.at[x+1,'Retorno'] = (ITUB['Close'][x+1]-ITUB['Close'][x])/ITUB['Close'][x]\n",
        "ITUB['Retorno'][0] =1.0\n",
        "ITUB.head()"
      ],
      "execution_count": 45,
      "outputs": [
        {
          "output_type": "stream",
          "text": [
            "/usr/local/lib/python3.6/dist-packages/ipykernel_launcher.py:3: SettingWithCopyWarning: \n",
            "A value is trying to be set on a copy of a slice from a DataFrame\n",
            "\n",
            "See the caveats in the documentation: https://pandas.pydata.org/pandas-docs/stable/user_guide/indexing.html#returning-a-view-versus-a-copy\n",
            "  This is separate from the ipykernel package so we can avoid doing imports until\n"
          ],
          "name": "stderr"
        },
        {
          "output_type": "execute_result",
          "data": {
            "text/html": [
              "<div>\n",
              "<style scoped>\n",
              "    .dataframe tbody tr th:only-of-type {\n",
              "        vertical-align: middle;\n",
              "    }\n",
              "\n",
              "    .dataframe tbody tr th {\n",
              "        vertical-align: top;\n",
              "    }\n",
              "\n",
              "    .dataframe thead th {\n",
              "        text-align: right;\n",
              "    }\n",
              "</style>\n",
              "<table border=\"1\" class=\"dataframe\">\n",
              "  <thead>\n",
              "    <tr style=\"text-align: right;\">\n",
              "      <th></th>\n",
              "      <th>Date</th>\n",
              "      <th>Open</th>\n",
              "      <th>High</th>\n",
              "      <th>Low</th>\n",
              "      <th>Close</th>\n",
              "      <th>Adj Close</th>\n",
              "      <th>Volume</th>\n",
              "      <th>Retorno</th>\n",
              "    </tr>\n",
              "  </thead>\n",
              "  <tbody>\n",
              "    <tr>\n",
              "      <th>0</th>\n",
              "      <td>2019-07-08</td>\n",
              "      <td>37.470001</td>\n",
              "      <td>37.500000</td>\n",
              "      <td>37.060001</td>\n",
              "      <td>37.299999</td>\n",
              "      <td>35.939171</td>\n",
              "      <td>9918400.0</td>\n",
              "      <td>1.000000</td>\n",
              "    </tr>\n",
              "    <tr>\n",
              "      <th>1</th>\n",
              "      <td>2019-07-10</td>\n",
              "      <td>37.529999</td>\n",
              "      <td>37.720001</td>\n",
              "      <td>36.950001</td>\n",
              "      <td>37.200001</td>\n",
              "      <td>35.842819</td>\n",
              "      <td>22765400.0</td>\n",
              "      <td>-0.002681</td>\n",
              "    </tr>\n",
              "    <tr>\n",
              "      <th>2</th>\n",
              "      <td>2019-07-11</td>\n",
              "      <td>36.970001</td>\n",
              "      <td>37.150002</td>\n",
              "      <td>36.580002</td>\n",
              "      <td>37.150002</td>\n",
              "      <td>35.794647</td>\n",
              "      <td>15289000.0</td>\n",
              "      <td>-0.001344</td>\n",
              "    </tr>\n",
              "    <tr>\n",
              "      <th>3</th>\n",
              "      <td>2019-07-12</td>\n",
              "      <td>37.450001</td>\n",
              "      <td>37.459999</td>\n",
              "      <td>36.459999</td>\n",
              "      <td>36.459999</td>\n",
              "      <td>35.129818</td>\n",
              "      <td>18723300.0</td>\n",
              "      <td>-0.018573</td>\n",
              "    </tr>\n",
              "    <tr>\n",
              "      <th>4</th>\n",
              "      <td>2019-07-15</td>\n",
              "      <td>36.680000</td>\n",
              "      <td>36.700001</td>\n",
              "      <td>36.119999</td>\n",
              "      <td>36.360001</td>\n",
              "      <td>35.033466</td>\n",
              "      <td>16642300.0</td>\n",
              "      <td>-0.002743</td>\n",
              "    </tr>\n",
              "  </tbody>\n",
              "</table>\n",
              "</div>"
            ],
            "text/plain": [
              "         Date       Open       High  ...  Adj Close      Volume   Retorno\n",
              "0  2019-07-08  37.470001  37.500000  ...  35.939171   9918400.0  1.000000\n",
              "1  2019-07-10  37.529999  37.720001  ...  35.842819  22765400.0 -0.002681\n",
              "2  2019-07-11  36.970001  37.150002  ...  35.794647  15289000.0 -0.001344\n",
              "3  2019-07-12  37.450001  37.459999  ...  35.129818  18723300.0 -0.018573\n",
              "4  2019-07-15  36.680000  36.700001  ...  35.033466  16642300.0 -0.002743\n",
              "\n",
              "[5 rows x 8 columns]"
            ]
          },
          "metadata": {
            "tags": []
          },
          "execution_count": 45
        }
      ]
    },
    {
      "cell_type": "code",
      "metadata": {
        "id": "tGURSJPKbX63",
        "colab_type": "code",
        "colab": {}
      },
      "source": [
        "for x in range(len(B3['Close'])-1):\n",
        "  B3.at[x+1,'Retorno'] = (B3['Close'][x+1]-B3['Close'][x])/B3['Close'][x+1]\n"
      ],
      "execution_count": 46,
      "outputs": []
    },
    {
      "cell_type": "code",
      "metadata": {
        "id": "CQ-_Bctx8qon",
        "colab_type": "code",
        "colab": {
          "base_uri": "https://localhost:8080/",
          "height": 289
        },
        "outputId": "ab95b52f-59b6-457d-d603-8faa55564aa0"
      },
      "source": [
        "B3['Retorno'][0] =1\n",
        "B3.head()"
      ],
      "execution_count": 47,
      "outputs": [
        {
          "output_type": "stream",
          "text": [
            "/usr/local/lib/python3.6/dist-packages/ipykernel_launcher.py:1: SettingWithCopyWarning: \n",
            "A value is trying to be set on a copy of a slice from a DataFrame\n",
            "\n",
            "See the caveats in the documentation: https://pandas.pydata.org/pandas-docs/stable/user_guide/indexing.html#returning-a-view-versus-a-copy\n",
            "  \"\"\"Entry point for launching an IPython kernel.\n"
          ],
          "name": "stderr"
        },
        {
          "output_type": "execute_result",
          "data": {
            "text/html": [
              "<div>\n",
              "<style scoped>\n",
              "    .dataframe tbody tr th:only-of-type {\n",
              "        vertical-align: middle;\n",
              "    }\n",
              "\n",
              "    .dataframe tbody tr th {\n",
              "        vertical-align: top;\n",
              "    }\n",
              "\n",
              "    .dataframe thead th {\n",
              "        text-align: right;\n",
              "    }\n",
              "</style>\n",
              "<table border=\"1\" class=\"dataframe\">\n",
              "  <thead>\n",
              "    <tr style=\"text-align: right;\">\n",
              "      <th></th>\n",
              "      <th>Date</th>\n",
              "      <th>Open</th>\n",
              "      <th>High</th>\n",
              "      <th>Low</th>\n",
              "      <th>Close</th>\n",
              "      <th>Adj Close</th>\n",
              "      <th>Volume</th>\n",
              "      <th>Retorno</th>\n",
              "    </tr>\n",
              "  </thead>\n",
              "  <tbody>\n",
              "    <tr>\n",
              "      <th>0</th>\n",
              "      <td>2019-07-08</td>\n",
              "      <td>40.400002</td>\n",
              "      <td>40.630001</td>\n",
              "      <td>40.080002</td>\n",
              "      <td>40.299999</td>\n",
              "      <td>39.251339</td>\n",
              "      <td>6202900.0</td>\n",
              "      <td>1.000000</td>\n",
              "    </tr>\n",
              "    <tr>\n",
              "      <th>1</th>\n",
              "      <td>2019-07-10</td>\n",
              "      <td>40.950001</td>\n",
              "      <td>43.000000</td>\n",
              "      <td>40.770000</td>\n",
              "      <td>42.099998</td>\n",
              "      <td>41.004505</td>\n",
              "      <td>17923800.0</td>\n",
              "      <td>0.042755</td>\n",
              "    </tr>\n",
              "    <tr>\n",
              "      <th>2</th>\n",
              "      <td>2019-07-11</td>\n",
              "      <td>42.099998</td>\n",
              "      <td>42.099998</td>\n",
              "      <td>40.810001</td>\n",
              "      <td>41.160000</td>\n",
              "      <td>40.088963</td>\n",
              "      <td>11037300.0</td>\n",
              "      <td>-0.022838</td>\n",
              "    </tr>\n",
              "    <tr>\n",
              "      <th>3</th>\n",
              "      <td>2019-07-12</td>\n",
              "      <td>41.250000</td>\n",
              "      <td>41.470001</td>\n",
              "      <td>39.630001</td>\n",
              "      <td>39.700001</td>\n",
              "      <td>38.666958</td>\n",
              "      <td>12571100.0</td>\n",
              "      <td>-0.036776</td>\n",
              "    </tr>\n",
              "    <tr>\n",
              "      <th>4</th>\n",
              "      <td>2019-07-15</td>\n",
              "      <td>39.970001</td>\n",
              "      <td>40.270000</td>\n",
              "      <td>39.439999</td>\n",
              "      <td>39.740002</td>\n",
              "      <td>38.705914</td>\n",
              "      <td>6296400.0</td>\n",
              "      <td>0.001007</td>\n",
              "    </tr>\n",
              "  </tbody>\n",
              "</table>\n",
              "</div>"
            ],
            "text/plain": [
              "         Date       Open       High  ...  Adj Close      Volume   Retorno\n",
              "0  2019-07-08  40.400002  40.630001  ...  39.251339   6202900.0  1.000000\n",
              "1  2019-07-10  40.950001  43.000000  ...  41.004505  17923800.0  0.042755\n",
              "2  2019-07-11  42.099998  42.099998  ...  40.088963  11037300.0 -0.022838\n",
              "3  2019-07-12  41.250000  41.470001  ...  38.666958  12571100.0 -0.036776\n",
              "4  2019-07-15  39.970001  40.270000  ...  38.705914   6296400.0  0.001007\n",
              "\n",
              "[5 rows x 8 columns]"
            ]
          },
          "metadata": {
            "tags": []
          },
          "execution_count": 47
        }
      ]
    },
    {
      "cell_type": "code",
      "metadata": {
        "id": "DVdjOGQy8qrY",
        "colab_type": "code",
        "colab": {
          "base_uri": "https://localhost:8080/",
          "height": 204
        },
        "outputId": "e8ef3aa3-0441-4fb3-dab1-e47febd2736c"
      },
      "source": [
        "for x in range(len(IRB['Close'])-1):\n",
        "  IRB.at[x+1,'Retorno'] = (IRB['Close'][x+1]-IRB['Close'][x])/IRB['Close'][x]\n",
        "#IRB['Retorno'][0] = 1\n",
        "IRB.head()\n"
      ],
      "execution_count": 48,
      "outputs": [
        {
          "output_type": "execute_result",
          "data": {
            "text/html": [
              "<div>\n",
              "<style scoped>\n",
              "    .dataframe tbody tr th:only-of-type {\n",
              "        vertical-align: middle;\n",
              "    }\n",
              "\n",
              "    .dataframe tbody tr th {\n",
              "        vertical-align: top;\n",
              "    }\n",
              "\n",
              "    .dataframe thead th {\n",
              "        text-align: right;\n",
              "    }\n",
              "</style>\n",
              "<table border=\"1\" class=\"dataframe\">\n",
              "  <thead>\n",
              "    <tr style=\"text-align: right;\">\n",
              "      <th></th>\n",
              "      <th>Date</th>\n",
              "      <th>Open</th>\n",
              "      <th>High</th>\n",
              "      <th>Low</th>\n",
              "      <th>Close</th>\n",
              "      <th>Adj Close</th>\n",
              "      <th>Volume</th>\n",
              "      <th>Retorno</th>\n",
              "    </tr>\n",
              "  </thead>\n",
              "  <tbody>\n",
              "    <tr>\n",
              "      <th>0</th>\n",
              "      <td>2019-07-08</td>\n",
              "      <td>32.349998</td>\n",
              "      <td>32.480000</td>\n",
              "      <td>31.166700</td>\n",
              "      <td>31.666700</td>\n",
              "      <td>30.922359</td>\n",
              "      <td>10330200.0</td>\n",
              "      <td>NaN</td>\n",
              "    </tr>\n",
              "    <tr>\n",
              "      <th>1</th>\n",
              "      <td>2019-07-10</td>\n",
              "      <td>31.996700</td>\n",
              "      <td>33.963299</td>\n",
              "      <td>31.903299</td>\n",
              "      <td>33.816700</td>\n",
              "      <td>33.021824</td>\n",
              "      <td>10754400.0</td>\n",
              "      <td>0.067895</td>\n",
              "    </tr>\n",
              "    <tr>\n",
              "      <th>2</th>\n",
              "      <td>2019-07-11</td>\n",
              "      <td>33.333302</td>\n",
              "      <td>33.476700</td>\n",
              "      <td>32.056702</td>\n",
              "      <td>32.056702</td>\n",
              "      <td>31.303194</td>\n",
              "      <td>6174000.0</td>\n",
              "      <td>-0.052045</td>\n",
              "    </tr>\n",
              "    <tr>\n",
              "      <th>3</th>\n",
              "      <td>2019-07-12</td>\n",
              "      <td>32.250000</td>\n",
              "      <td>32.536701</td>\n",
              "      <td>31.343300</td>\n",
              "      <td>31.343300</td>\n",
              "      <td>30.606562</td>\n",
              "      <td>5005500.0</td>\n",
              "      <td>-0.022254</td>\n",
              "    </tr>\n",
              "    <tr>\n",
              "      <th>4</th>\n",
              "      <td>2019-07-15</td>\n",
              "      <td>31.503300</td>\n",
              "      <td>31.719999</td>\n",
              "      <td>30.910000</td>\n",
              "      <td>30.933300</td>\n",
              "      <td>30.206198</td>\n",
              "      <td>3844800.0</td>\n",
              "      <td>-0.013081</td>\n",
              "    </tr>\n",
              "  </tbody>\n",
              "</table>\n",
              "</div>"
            ],
            "text/plain": [
              "         Date       Open       High  ...  Adj Close      Volume   Retorno\n",
              "0  2019-07-08  32.349998  32.480000  ...  30.922359  10330200.0       NaN\n",
              "1  2019-07-10  31.996700  33.963299  ...  33.021824  10754400.0  0.067895\n",
              "2  2019-07-11  33.333302  33.476700  ...  31.303194   6174000.0 -0.052045\n",
              "3  2019-07-12  32.250000  32.536701  ...  30.606562   5005500.0 -0.022254\n",
              "4  2019-07-15  31.503300  31.719999  ...  30.206198   3844800.0 -0.013081\n",
              "\n",
              "[5 rows x 8 columns]"
            ]
          },
          "metadata": {
            "tags": []
          },
          "execution_count": 48
        }
      ]
    }
  ]
}